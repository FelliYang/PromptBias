{
 "cells": [
  {
   "cell_type": "markdown",
   "metadata": {},
   "source": [
    "#### 分析debiased后不平衡数据集上降低的精度是否属于过拟合得到的精度"
   ]
  },
  {
   "cell_type": "code",
   "execution_count": 1,
   "metadata": {},
   "outputs": [],
   "source": [
    "import torch\n",
    "import pandas as pd\n",
    "import numpy as np\n",
    "# 1. 获取在这些数据集上debiased前后的预测值，并找出来debiased后回答不对的样本\n",
    "def get_rectified_examples(root_dir, model, prompt):\n",
    "    \"\"\"统计不同数据集的recall ratio\"\"\"\n",
    "    # k = [0,1,2,4,8,16,32]\n",
    "    num = 0\n",
    "\n",
    "    \n",
    "    if prompt != \"optiprompt\":\n",
    "        data_dir = f\"{root_dir}/manual_prompt/filter_out_{num}_biased_tokens/{model}/{prompt}/debias_answer_type_tokens/origin_embedding/ablations/no_norm_no_rescale/preds.pt\"\n",
    "    else:\n",
    "        data_dir = f\"{root_dir}/continue_prompt/filter_out_{num}_biased_tokens/{model}/{prompt}_5/debias_answer_type_tokens/origin_embedding/ablations/no_norm_no_rescale/exp_1/preds.pt\"\n",
    "    # 数据集数量变化\n",
    "    raw_data = torch.load(data_dir)\n",
    "    datasets = [\"LAMA\", \"LAMA-WHU\"]\n",
    "    rectified_data = {}\n",
    "    for _ in datasets:\n",
    "        dataset = raw_data[_]\n",
    "        \n",
    "        # 计算某个relation的公共进度\n",
    "        preds_df = {}\n",
    "        for rel in dataset.keys():\n",
    "            data = dataset[rel]['data']\n",
    "            data.pop(\"raw_probs\",None)\n",
    "            data.pop(\"debiased_probs\",None)\n",
    "            preds_df[rel] = pd.DataFrame({key: value if type(value)!=torch.Tensor else value.cpu() for key,value in data.items()})\n",
    "        rectified_df = {}\n",
    "        for rel in dataset.keys():\n",
    "            df = preds_df[rel]\n",
    "            # 找到原来对了，debias错误的数据\n",
    "            rectified_example = df.query(\"obj_labels==raw_preds and obj_labels!=debiased_preds\")\n",
    "            # raw_num_df = df.query(\"obj_labels==raw_preds\")\n",
    "            # acc = recall_ratio.shape[0]/df.shape[0]\n",
    "            # recall_ratios[rel] = acc\n",
    "            rectified_df[rel] = rectified_example\n",
    "\n",
    "        rectified_data[_] = rectified_df\n",
    "    return rectified_data\n",
    "\n"
   ]
  },
  {
   "cell_type": "code",
   "execution_count": 2,
   "metadata": {},
   "outputs": [],
   "source": [
    "# 2. 获取prompt bias在answer space上的概率分布\n",
    "import torch\n",
    "bias_results = torch.load(\"model_bias.pt\")"
   ]
  },
  {
   "cell_type": "code",
   "execution_count": 3,
   "metadata": {},
   "outputs": [
    {
     "name": "stdout",
     "output_type": "stream",
     "text": [
      "{'bert-base-cased': {'LAMA': 0.8501642660068836, 'LPAQA': 0.8930796530647157, 'AutoPrompt': 0.9144750978671405, 'optiprompt': 0.8962028311786832}, 'bert-large-cased': {'LAMA': 0.7796843464539046, 'LPAQA': 0.8327183847551741, 'AutoPrompt': 0.8660165347513166, 'optiprompt': 0.8924721949690114}, 'roberta-large': {'LAMA': 0.805031352120705, 'LPAQA': 0.8077772586964519, 'AutoPrompt': 0.9102598305621535, 'optiprompt': 0.9023572867123203}}\n"
     ]
    }
   ],
   "source": [
    "# 3. 判断回答不对的样本的label是否属于bias最大的token，以及是否属于bias超过unifrom的token\n",
    "top_k = 0 # bias最大token\n",
    "top_k = -1 # 超过unifrom的token\n",
    "root_dir = \"/mnt/code/users/xuziyang/PromptBias/outputs/openprompt\"\n",
    "\n",
    "\n",
    "models = [\"bert-base-cased\",\"bert-large-cased\",\"roberta-large\"]\n",
    "prompts = [\"LAMA\",\"LPAQA\",\"AutoPrompt\",\"optiprompt\"]\n",
    "benchmark = \"LAMA\"\n",
    "results = {}\n",
    "for model in models:\n",
    "    results[model] = {}\n",
    "    for prompt in prompts:\n",
    "        data = get_rectified_examples(root_dir, model,prompt)[benchmark]\n",
    "        collect = []\n",
    "        for rel in data.keys():\n",
    "            labels_sub_ids = data[rel][\"label_subvocab_ids\"].tolist()\n",
    "            logits, bias_vector = bias_results[model][prompt][rel]\n",
    "            # 从逻辑值->概率值\n",
    "            norm2 = torch.norm(bias_vector)\n",
    "            probs = torch.softmax(logits*norm2, dim=-1).tolist()\n",
    "            sample_space_size = len(probs)\n",
    "            if top_k == 0:\n",
    "                index = [np.argmax(probs).tolist()]\n",
    "            elif top_k == -1:\n",
    "                random_p = 1 / sample_space_size\n",
    "                prompt_biased_indices = (torch.Tensor(probs) > random_p).nonzero().view(-1)\n",
    "                index = prompt_biased_indices.tolist()\n",
    "            else:\n",
    "                assert False\n",
    "            \n",
    "            if len(labels_sub_ids) != 0:\n",
    "                ratio = np.sum([1 if i in index else 0 for i in labels_sub_ids]) / len(labels_sub_ids)\n",
    "                collect.append(ratio)\n",
    "\n",
    "            \n",
    "            \n",
    "        avg_ratio = np.mean(collect)\n",
    "\n",
    "        results[model][prompt] = avg_ratio\n",
    "\n",
    "\n",
    "print(results)"
   ]
  },
  {
   "cell_type": "code",
   "execution_count": 28,
   "metadata": {},
   "outputs": [
    {
     "data": {
      "image/png": "[encoded data removed]",
      "text/plain": [
       "<Figure size 1000x400 with 1 Axes>"
      ]
     },
     "metadata": {},
     "output_type": "display_data"
    }
   ],
   "source": [
    "# 可视化，画个图\n",
    "\n",
    "import matplotlib.pyplot as plt\n",
    "import numpy as np\n",
    "\n",
    "# 数据\n",
    "models = ['bert-base', 'bert-large', 'roterba-large']\n",
    "methods = ['Manual', 'LPAQA', 'AutoPrompt', 'OptiPrompt']\n",
    "data = results\n",
    "\n",
    "# 新颜色\n",
    "colors = ['#E9C468', '#F5A261', '#E87050', '#E63946']\n",
    "\n",
    "# 柱状图设置\n",
    "width = 0.16\n",
    "pad = 0.02\n",
    "x = np.arange(len(models))\n",
    "\n",
    "fig, ax = plt.subplots(figsize=(10, 4))  # 增加图表宽度\n",
    "\n",
    "for i, method in enumerate(methods):\n",
    "    prompt = [\"LAMA\",\"LPAQA\",\"AutoPrompt\",\"optiprompt\"][methods.index(method)]\n",
    "    models = [\"bert-base-cased\",\"bert-large-cased\",\"roberta-large\"]\n",
    "    models_legend = [\"BERT-base\",\"BERT-large\",\"RoBERTa-large\"]\n",
    "    values = [data[m][prompt] for m in models]\n",
    "\n",
    "    ax.bar(x + i * (width+pad), values, width, label=method, color=colors[i])\n",
    "\n",
    "# ax.set_xlabel('Models')\n",
    "ax.set_ylabel('Ratio of Biased Data', fontsize=18)\n",
    "# ax.set_title('Performance Comparison by Method and Model')\n",
    "ax.set_xticks(x + (width+pad) * (len(methods) - 1) / 2)\n",
    "ax.set_xticklabels(models_legend, fontsize=16)\n",
    "ax.set_ylim(0.4,1.0)\n",
    "ax.legend(loc='upper right', bbox_to_anchor=(0.97, 0.992), ncol=4, fontsize=14)  # 将图例放在图表内部\n",
    "\n",
    "# 保存为PDF\n",
    "plt.savefig('ratio_of_bias_data.pdf', format='pdf', bbox_inches='tight')\n",
    "\n",
    "# 显示图表\n",
    "plt.show()\n"
   ]
  }
 ],
 "metadata": {
  "interpreter": {
   "hash": "e2a961f21e3910a1829c13a9982b953d485249e8a0f32b2fb196974498b9d8dc"
  },
  "kernelspec": {
   "display_name": "Python 3.8.17 ('xzy_BiasBench')",
   "language": "python",
   "name": "python3"
  },
  "language_info": {
   "codemirror_mode": {
    "name": "ipython",
    "version": 3
   },
   "file_extension": ".py",
   "mimetype": "text/x-python",
   "name": "python",
   "nbconvert_exporter": "python",
   "pygments_lexer": "ipython3",
   "version": "3.8.17"
  },
  "orig_nbformat": 4
 },
 "nbformat": 4,
 "nbformat_minor": 2
}
