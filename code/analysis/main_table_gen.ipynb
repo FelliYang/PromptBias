{
 "cells": [
  {
   "cell_type": "markdown",
   "metadata": {},
   "source": [
    "#### 自动化生成latex主表中的关键数值部分"
   ]
  },
  {
   "cell_type": "code",
   "execution_count": null,
   "metadata": {},
   "outputs": [],
   "source": [
    "content = r\"\"\"\n",
    "\\hline\n",
    "\\fairColor & Manual& 20.0 & 24.0\\sred{+4.0} & & 22.6 & 25.9\\sred{+3.3} & & 20.1 & 24.2\\sred{+4.1}\\\\\n",
    "% \\cline{2-6}\n",
    "\\fairColor ~ & LPAQA & 19.7 & 23.7\\sred{+4.0} & & 21.6 & 23.7\\sred{+2.1} & & 20.1 & 23.5\\sred{+3.4}\\\\\n",
    "% \\cline{2-6}\n",
    "\\fairColor ~ & AutoPrompt & 20.6 & 23.7\\sred{+3.1} & & 21.2 & 24.2\\sred{+3.0} & & 18.8 & 23.5\\sred{+4.7}\\\\\n",
    "% \\cline{2-6}\n",
    "\\fairColor \\multirow{-4}*{WIKI-UNI}  & OptiPrompt & 23.1 & 25.0\\sred{+1.9} & &  24.9 &  27.8\\sred{+2.9} & & 21.9 &  26.0\\sred{+4.1}\\\\\n",
    "\n",
    "\\hline\n",
    "\\biasedColor  & Manual & 37.1 & 30.0\\sblue{-7.1} & & 38.7 & 30.7\\sblue{-8.0} & & 36.4 & 31.0\\sblue{-5.4} \\\\\n",
    "% \\cline{2-6}\n",
    "\\biasedColor ~ & LPAQA & 38.1 & 28.2\\sblue{-9.9} & & 40.2 & 29.1\\sblue{-11.1} & & 39.0 & 30.6\\sblue{-8.4}\\\\\n",
    "% \\cline{2-6}\n",
    "\\biasedColor ~ & AutoPrompt & 43.9 & 27.2\\sblue{-16.7} & & 43.5 & 31.1\\sblue{-12.4} & & 42.3 & 26.1\\sblue{-16.2}\\\\\n",
    "% \\cline{2-6}\n",
    "\\biasedColor \\multirow{-4}*{LAMA} & OptiPrompt & 49.4 & 30.9\\sblue{-18.5} & & 52.6 &  33.5\\sblue{-19.1} & & 48.0 &  34.2\\sblue{-13.8}\\\\\n",
    "\n",
    "\n",
    "\\hline\n",
    "\\biasedColor  & Manual & 27.3 & 19.9\\sblue{-7.4} & & 30.0 & 21.8\\sblue{-8.2} & & 28.3 & 22.2\\sblue{-6.1}\\\\\n",
    "% \\cline{2-6}\n",
    "\\biasedColor ~ & LPAQA & 29.0 & 18.5\\sblue{-10.5} & & 31.7 & 20.4\\sblue{-11.3} & & 31.1 & 21.9\\sblue{-9.2}\\\\\n",
    "% \\cline{2-6}\n",
    "\\biasedColor ~ & AutoPrompt & 33.4 & 16.2\\sblue{-17.2} & & 33.8 & 21.4\\sblue{-12.4} & & 33.9 & 17.7\\sblue{-16.2}\\\\\n",
    "% \\cline{2-6}\n",
    "\\biasedColor \\multirow{-4}*{LAMA-UHN} & OptiPrompt & 39.5 & 19.8\\sblue{-19.7} & &  43.8 &  23.2\\sblue{-20.6} & & 39.3 &  24.4\\sblue{-14.9} \\\\\n",
    "\"\"\""
   ]
  },
  {
   "cell_type": "code",
   "execution_count": 20,
   "metadata": {},
   "outputs": [],
   "source": [
    "# 导入debias数据\n",
    "import json\n",
    "prompts = [\"LAMA\",\"LPAQA\",\"AutoPrompt\",\"optiprompt\"]\n",
    "models = [\"bert-base-cased\",\"bert-large-cased\",\"roberta-large\"]\n",
    "\n",
    "no_norm_no_rescale = {}\n",
    "for model in models:\n",
    "    no_norm_no_rescale[model] = {}\n",
    "    for prompt in prompts:\n",
    "        vocab = \"common_vocab_cased\" if model != \"roberta-large\" else \"common_vocab_cased_be_ro_al\"\n",
    "        results_path = f\"/mnt/code/users/xuziyang/PromptBias/results/filter_out_0_biased_tokens/{model}/{vocab}/typed_querying/ablations/{prompt}/no_normal_no_rescale_result.json\"\n",
    "        # 解析result\n",
    "        with open(results_path) as f:\n",
    "            results = json.load(f)\n",
    "        no_norm_no_rescale[model][prompt] = results"
   ]
  },
  {
   "cell_type": "code",
   "execution_count": 21,
   "metadata": {},
   "outputs": [
    {
     "name": "stdout",
     "output_type": "stream",
     "text": [
      "\\hline\n",
      "\\fairColor & Manual & 20.0 & 24.2\\sred{ +4.2 } & & 22.6 & 26.1\\sred{ +3.5 } & & 20.1 & 24.0\\sred{ +3.9 }\\\\\n",
      "\\fairColor & LPAQA & 19.7 & 24.3\\sred{ +4.6 } & & 21.6 & 24.4\\sred{ +2.8 } & & 20.1 & 23.6\\sred{ +3.5 }\\\\\n",
      "\\fairColor & AutoPrompt & 20.6 & 24.7\\sred{ +4.1 } & & 21.2 & 25.0\\sred{ +3.8 } & & 18.8 & 23.4\\sred{ +4.6 }\\\\\n",
      "\\fairColor \\multirow{-4}*{ WIKI-UNI } & OptiPrompt & 23.1 & 25.7\\sred{ +2.6 } & & 24.8 & 28.3\\sred{ +3.5 } & & 22.2 & 26.4\\sred{ +4.2 }\\\\\n",
      "\\hline\n",
      "\\biasedColor & Manual & 37.1 & 32.4\\sblue{ -4.7 } & & 38.7 & 32.2\\sblue{ -6.5 } & & 36.4 & 30.7\\sblue{ -5.7 }\\\\\n",
      "\\biasedColor & LPAQA & 38.1 & 31.0\\sblue{ -7.1 } & & 40.2 & 31.6\\sblue{ -8.6 } & & 39.0 & 30.5\\sblue{ -8.5 }\\\\\n",
      "\\biasedColor & AutoPrompt & 43.9 & 33.4\\sblue{ -10.5 } & & 43.5 & 34.8\\sblue{ -8.7 } & & 42.3 & 26.1\\sblue{ -16.2 }\\\\\n",
      "\\biasedColor \\multirow{-4}*{ LAMA } & OptiPrompt & 49.7 & 34.1\\sblue{ -15.6 } & & 52.4 & 38.6\\sblue{ -13.8 } & & 48.5 & 34.7\\sblue{ -13.8 }\\\\\n",
      "\\hline\n",
      "\\biasedColor & Manual & 27.2 & 22.5\\sblue{ -4.7 } & & 30.0 & 23.0\\sblue{ -7.0 } & & 28.3 & 22.0\\sblue{ -6.3 }\\\\\n",
      "\\biasedColor & LPAQA & 29.0 & 21.2\\sblue{ -7.8 } & & 31.7 & 22.5\\sblue{ -9.2 } & & 31.1 & 21.9\\sblue{ -9.2 }\\\\\n",
      "\\biasedColor & AutoPrompt & 33.4 & 22.1\\sblue{ -11.3 } & & 33.8 & 25.0\\sblue{ -8.8 } & & 33.9 & 17.6\\sblue{ -16.3 }\\\\\n",
      "\\biasedColor \\multirow{-4}*{ LAMA-UHN } & OptiPrompt & 39.8 & 23.1\\sblue{ -16.7 } & & 43.6 & 28.3\\sblue{ -15.3 } & & 39.8 & 24.9\\sblue{ -14.9 }\\\\\n",
      "\n"
     ]
    }
   ],
   "source": [
    "content = \"\"\n",
    "for benchmark in [\"WIKI-UNI\", \"LAMA\", \"LAMA-UHN\"]:\n",
    "    content += r\"\\hline\"\n",
    "    content += \"\\n\"\n",
    "    for prompt in [\"Manual\", \"LPAQA\", \"AutoPrompt\", \"OptiPrompt\"]:\n",
    "        background = \"biasedColor\" if benchmark != \"WIKI-UNI\" else \"fairColor\"\n",
    "        if prompt==\"OptiPrompt\":\n",
    "            content += r\"\\{2} \\multirow{{-4}}*{{ {0} }} & {1} &\".format(benchmark,prompt,background)\n",
    "        else:\n",
    "            content += r\"\\{1} & {0} &\".format(prompt,background)\n",
    "        for model in [\"bert-base-cased\", \"bert-large-cased\",\"roberta-large\"]:\n",
    "            vanilla_acc, debiased_acc, diff = 0,0,0\n",
    "            if prompt==\"Manual\":\n",
    "                r_prompt = \"LAMA\"\n",
    "            elif prompt==\"OptiPrompt\":\n",
    "                r_prompt = \"optiprompt\"\n",
    "            else:\n",
    "                r_prompt = prompt\n",
    "            r_benchmark = \"LAMA-WHU\" if benchmark==\"LAMA-UHN\" else benchmark\n",
    "            vanilla_acc = next(iter(no_norm_no_rescale[model][r_prompt][model][r_benchmark].values()))[\"P\"] * 100\n",
    "            debiased_acc = next(iter(no_norm_no_rescale[model][r_prompt][model][r_benchmark].values()))[\"P_d\"] * 100\n",
    "            vanilla_acc = round(vanilla_acc,1)\n",
    "            debiased_acc = round(debiased_acc,1)\n",
    "            diff = debiased_acc-vanilla_acc\n",
    "            diff  = round(diff, 1)\n",
    "            diff  = \"+\"+str(diff) if diff>0 else str(diff)\n",
    "            # vanilla_acc = round(vanilla_acc*10+0.5,)\n",
    "            color = r\"\\sred\" if benchmark==\"WIKI-UNI\" else r\"\\sblue\"\n",
    "            if model!=\"roberta-large\":\n",
    "                content += r\" {0} & {1}{2}{{ {3} }} & &\".format(vanilla_acc, debiased_acc, color, diff)\n",
    "            else:\n",
    "                content += r\" {0} & {1}{2}{{ {3} }}\\\\\".format(vanilla_acc, debiased_acc, color, diff)\n",
    "        content+=\"\\n\"\n",
    "            # \"{prompt} &  22.6 & 25.9\\sred{+3.3} & & 20.1 & 24.2\\sred{+4.1}\\\\\"\n",
    "\n",
    "print(content)"
   ]
  },
  {
   "cell_type": "code",
   "execution_count": 7,
   "metadata": {},
   "outputs": [
    {
     "name": "stdout",
     "output_type": "stream",
     "text": [
      "{ hello hi }\n"
     ]
    }
   ],
   "source": [
    "print(r\"{{ {0} {1} }}\".format(\"hello\",\"hi\"))"
   ]
  }
 ],
 "metadata": {
  "interpreter": {
   "hash": "e2a961f21e3910a1829c13a9982b953d485249e8a0f32b2fb196974498b9d8dc"
  },
  "kernelspec": {
   "display_name": "Python 3.8.17 ('xzy_BiasBench')",
   "language": "python",
   "name": "python3"
  },
  "language_info": {
   "codemirror_mode": {
    "name": "ipython",
    "version": 3
   },
   "file_extension": ".py",
   "mimetype": "text/x-python",
   "name": "python",
   "nbconvert_exporter": "python",
   "pygments_lexer": "ipython3",
   "version": "3.8.17"
  },
  "orig_nbformat": 4
 },
 "nbformat": 4,
 "nbformat_minor": 2
}
