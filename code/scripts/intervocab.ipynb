{
 "cells": [
  {
   "cell_type": "code",
   "execution_count": 43,
   "metadata": {},
   "outputs": [],
   "source": [
    "from transformers import GPT2Tokenizer, GPT2Model, BertTokenizer\n",
    "gpt_model_path = \"/mnt/data/users/xuziyang/huggingface_model/gpt2-large\"\n",
    "bert_model_path =  \"/mnt/data/users/xuziyang/huggingface_model/bert-base-cased\"\n",
    "\n",
    "gpt_tokenizer = GPT2Tokenizer.from_pretrained(gpt_model_path)\n",
    "bert_tokenizer = BertTokenizer.from_pretrained(bert_model_path)\n",
    "# model = GPT2Model.from_pretrained(model_path)\n",
    "# text = \"Replace me by any text you'd like.\"\n",
    "# encoded_input = tokenizer(text, return_tensors='pt')\n",
    "# output = model(**encoded_input)"
   ]
  },
  {
   "cell_type": "code",
   "execution_count": 27,
   "metadata": {},
   "outputs": [],
   "source": [
    "gpt_vocabs = list(gpt_tokenizer.get_vocab().keys())\n",
    "bert_vocabs = list(bert_tokenizer.get_vocab().keys())"
   ]
  },
  {
   "cell_type": "code",
   "execution_count": 44,
   "metadata": {},
   "outputs": [
    {
     "data": {
      "text/plain": [
       "{'unk_token': '[UNK]',\n",
       " 'sep_token': '[SEP]',\n",
       " 'pad_token': '[PAD]',\n",
       " 'cls_token': '[CLS]',\n",
       " 'mask_token': '[MASK]'}"
      ]
     },
     "execution_count": 44,
     "metadata": {},
     "output_type": "execute_result"
    }
   ],
   "source": [
    "bert_tokenizer.special_tokens_map"
   ]
  },
  {
   "cell_type": "code",
   "execution_count": 31,
   "metadata": {},
   "outputs": [],
   "source": [
    "# 1. 去除bert中的非独立单词 去除gpt中的空白符号\n",
    "bert_vocabs = set(filter(lambda x:x[:2]!=\"##\",bert_vocabs))\n",
    "gpt_vocabs = {i.replace(\"Ġ\",'') for i in gpt_vocabs}\n",
    "# 获取common_vocab\n",
    "common_vocab = bert_vocabs.intersection(gpt_vocabs)\n"
   ]
  },
  {
   "cell_type": "code",
   "execution_count": 57,
   "metadata": {},
   "outputs": [
    {
     "name": "stderr",
     "output_type": "stream",
     "text": [
      "  1%|▏         | 263/18354 [00:01<01:17, 233.91it/s]"
     ]
    },
    {
     "name": "stdout",
     "output_type": "stream",
     "text": [
      "PUNCT: -\n"
     ]
    },
    {
     "name": "stderr",
     "output_type": "stream",
     "text": [
      "  5%|▍         | 840/18354 [00:03<01:20, 217.04it/s]"
     ]
    },
    {
     "name": "stdout",
     "output_type": "stream",
     "text": [
      "PUNCT: >\n"
     ]
    },
    {
     "name": "stderr",
     "output_type": "stream",
     "text": [
      "  5%|▍         | 910/18354 [00:03<01:20, 217.36it/s]"
     ]
    },
    {
     "name": "stdout",
     "output_type": "stream",
     "text": [
      "PUNCT: 0\n"
     ]
    },
    {
     "name": "stderr",
     "output_type": "stream",
     "text": [
      "  9%|▊         | 1564/18354 [00:06<01:14, 226.61it/s]"
     ]
    },
    {
     "name": "stdout",
     "output_type": "stream",
     "text": [
      "PUNCT: ;\n"
     ]
    },
    {
     "name": "stderr",
     "output_type": "stream",
     "text": [
      " 14%|█▎        | 2504/18354 [00:10<01:06, 237.36it/s]"
     ]
    },
    {
     "name": "stdout",
     "output_type": "stream",
     "text": [
      "PUNCT: `\n"
     ]
    },
    {
     "name": "stderr",
     "output_type": "stream",
     "text": [
      " 14%|█▍        | 2650/18354 [00:11<01:06, 237.02it/s]"
     ]
    },
    {
     "name": "stdout",
     "output_type": "stream",
     "text": [
      "im\n",
      "0 - i\n",
      "1 - m\n"
     ]
    },
    {
     "name": "stderr",
     "output_type": "stream",
     "text": [
      " 16%|█▋        | 3013/18354 [00:12<01:05, 235.56it/s]"
     ]
    },
    {
     "name": "stdout",
     "output_type": "stream",
     "text": [
      "PUNCT: \"\n"
     ]
    },
    {
     "name": "stderr",
     "output_type": "stream",
     "text": [
      " 21%|██        | 3862/18354 [00:16<01:00, 238.05it/s]"
     ]
    },
    {
     "name": "stdout",
     "output_type": "stream",
     "text": [
      "PUNCT: ]\n"
     ]
    },
    {
     "name": "stderr",
     "output_type": "stream",
     "text": [
      " 22%|██▏       | 3982/18354 [00:17<01:00, 235.63it/s]"
     ]
    },
    {
     "name": "stdout",
     "output_type": "stream",
     "text": [
      "PUNCT: /\n"
     ]
    },
    {
     "name": "stderr",
     "output_type": "stream",
     "text": [
      " 23%|██▎       | 4247/18354 [00:18<01:00, 233.26it/s]"
     ]
    },
    {
     "name": "stdout",
     "output_type": "stream",
     "text": [
      "PUNCT: iOS\n"
     ]
    },
    {
     "name": "stderr",
     "output_type": "stream",
     "text": [
      " 27%|██▋       | 4972/18354 [00:21<00:56, 234.92it/s]"
     ]
    },
    {
     "name": "stdout",
     "output_type": "stream",
     "text": [
      "PUNCT: ·\n",
      "PUNCT: '\n"
     ]
    },
    {
     "name": "stderr",
     "output_type": "stream",
     "text": [
      " 28%|██▊       | 5214/18354 [00:22<00:55, 238.79it/s]"
     ]
    },
    {
     "name": "stdout",
     "output_type": "stream",
     "text": [
      "id\n",
      "0 - i\n",
      "1 - d\n"
     ]
    },
    {
     "name": "stderr",
     "output_type": "stream",
     "text": [
      " 30%|███       | 5577/18354 [00:23<00:53, 238.65it/s]"
     ]
    },
    {
     "name": "stdout",
     "output_type": "stream",
     "text": [
      "PUNCT: *\n"
     ]
    },
    {
     "name": "stderr",
     "output_type": "stream",
     "text": [
      " 34%|███▎      | 6153/18354 [00:26<00:52, 230.42it/s]"
     ]
    },
    {
     "name": "stdout",
     "output_type": "stream",
     "text": [
      "SYM: $\n"
     ]
    },
    {
     "name": "stderr",
     "output_type": "stream",
     "text": [
      " 34%|███▍      | 6321/18354 [00:27<00:51, 233.52it/s]"
     ]
    },
    {
     "name": "stdout",
     "output_type": "stream",
     "text": [
      "PUNCT: ^\n"
     ]
    },
    {
     "name": "stderr",
     "output_type": "stream",
     "text": [
      " 46%|████▌     | 8405/18354 [00:35<00:41, 238.87it/s]"
     ]
    },
    {
     "name": "stdout",
     "output_type": "stream",
     "text": [
      "PUNCT: neo\n"
     ]
    },
    {
     "name": "stderr",
     "output_type": "stream",
     "text": [
      " 46%|████▌     | 8478/18354 [00:36<00:41, 236.97it/s]"
     ]
    },
    {
     "name": "stdout",
     "output_type": "stream",
     "text": [
      "PUNCT: }\n"
     ]
    },
    {
     "name": "stderr",
     "output_type": "stream",
     "text": [
      " 52%|█████▏    | 9543/18354 [00:40<00:36, 239.29it/s]"
     ]
    },
    {
     "name": "stdout",
     "output_type": "stream",
     "text": [
      "PUNCT: {\n"
     ]
    },
    {
     "name": "stderr",
     "output_type": "stream",
     "text": [
      " 53%|█████▎    | 9736/18354 [00:41<00:36, 235.37it/s]"
     ]
    },
    {
     "name": "stdout",
     "output_type": "stream",
     "text": [
      "PUNCT: ¥\n"
     ]
    },
    {
     "name": "stderr",
     "output_type": "stream",
     "text": [
      " 54%|█████▍    | 10000/18354 [00:42<00:35, 235.67it/s]"
     ]
    },
    {
     "name": "stdout",
     "output_type": "stream",
     "text": [
      "PUNCT: 00\n"
     ]
    },
    {
     "name": "stderr",
     "output_type": "stream",
     "text": [
      " 56%|█████▌    | 10290/18354 [00:43<00:33, 237.63it/s]"
     ]
    },
    {
     "name": "stdout",
     "output_type": "stream",
     "text": [
      "PUNCT: ?\n",
      "SYM: #\n"
     ]
    },
    {
     "name": "stderr",
     "output_type": "stream",
     "text": [
      " 57%|█████▋    | 10465/18354 [00:44<00:32, 239.88it/s]"
     ]
    },
    {
     "name": "stdout",
     "output_type": "stream",
     "text": [
      "wed\n",
      "0 - we\n",
      "1 - d\n"
     ]
    },
    {
     "name": "stderr",
     "output_type": "stream",
     "text": [
      " 62%|██████▏   | 11413/18354 [00:48<00:29, 237.97it/s]"
     ]
    },
    {
     "name": "stdout",
     "output_type": "stream",
     "text": [
      "gonna\n",
      "0 - gon\n",
      "1 - na\n"
     ]
    },
    {
     "name": "stderr",
     "output_type": "stream",
     "text": [
      " 65%|██████▌   | 11987/18354 [00:50<00:26, 242.47it/s]"
     ]
    },
    {
     "name": "stdout",
     "output_type": "stream",
     "text": [
      "PUNCT: kg\n"
     ]
    },
    {
     "name": "stderr",
     "output_type": "stream",
     "text": [
      " 67%|██████▋   | 12211/18354 [00:51<00:25, 242.32it/s]"
     ]
    },
    {
     "name": "stdout",
     "output_type": "stream",
     "text": [
      "PUNCT: @\n"
     ]
    },
    {
     "name": "stderr",
     "output_type": "stream",
     "text": [
      " 68%|██████▊   | 12511/18354 [00:53<00:24, 241.67it/s]"
     ]
    },
    {
     "name": "stdout",
     "output_type": "stream",
     "text": [
      "gotta\n",
      "0 - got\n",
      "1 - ta\n"
     ]
    },
    {
     "name": "stderr",
     "output_type": "stream",
     "text": [
      " 72%|███████▏  | 13181/18354 [00:55<00:21, 244.14it/s]"
     ]
    },
    {
     "name": "stdout",
     "output_type": "stream",
     "text": [
      "PUNCT: ...\n"
     ]
    },
    {
     "name": "stderr",
     "output_type": "stream",
     "text": [
      " 76%|███████▌  | 13908/18354 [00:58<00:18, 243.32it/s]"
     ]
    },
    {
     "name": "stdout",
     "output_type": "stream",
     "text": [
      "PUNCT: !\n"
     ]
    },
    {
     "name": "stderr",
     "output_type": "stream",
     "text": [
      " 82%|████████▏ | 14987/18354 [01:03<00:13, 248.11it/s]"
     ]
    },
    {
     "name": "stdout",
     "output_type": "stream",
     "text": [
      "PUNCT: ~\n"
     ]
    },
    {
     "name": "stderr",
     "output_type": "stream",
     "text": [
      " 90%|████████▉ | 16465/18354 [01:09<00:07, 245.52it/s]"
     ]
    },
    {
     "name": "stdout",
     "output_type": "stream",
     "text": [
      "PUNCT: :\n"
     ]
    },
    {
     "name": "stderr",
     "output_type": "stream",
     "text": [
      " 95%|█████████▍| 17417/18354 [01:13<00:03, 244.57it/s]"
     ]
    },
    {
     "name": "stdout",
     "output_type": "stream",
     "text": [
      "PUNCT: «\n"
     ]
    },
    {
     "name": "stderr",
     "output_type": "stream",
     "text": [
      " 96%|█████████▌| 17538/18354 [01:13<00:03, 232.46it/s]"
     ]
    },
    {
     "name": "stdout",
     "output_type": "stream",
     "text": [
      "PUNCT: ÷\n"
     ]
    },
    {
     "name": "stderr",
     "output_type": "stream",
     "text": [
      " 99%|█████████▉| 18170/18354 [01:16<00:00, 233.68it/s]"
     ]
    },
    {
     "name": "stdout",
     "output_type": "stream",
     "text": [
      "PUNCT: _\n"
     ]
    },
    {
     "name": "stderr",
     "output_type": "stream",
     "text": [
      "100%|█████████▉| 18339/18354 [01:17<00:00, 237.43it/s]"
     ]
    },
    {
     "name": "stdout",
     "output_type": "stream",
     "text": [
      "PUNCT: »\n"
     ]
    },
    {
     "name": "stderr",
     "output_type": "stream",
     "text": [
      "100%|██████████| 18354/18354 [01:17<00:00, 237.56it/s]\n"
     ]
    }
   ],
   "source": [
    "SPECIAL_SYMBOLS = list(bert_tokenizer.special_tokens_map.values()) + list(gpt_tokenizer.special_tokens_map.values())\n",
    "SPECIAL_SYMBOLS = set(SPECIAL_SYMBOLS)\n",
    "\n",
    "# no special symbols in common_vocab\n",
    "for symbol in SPECIAL_SYMBOLS:\n",
    "    if symbol in common_vocab:\n",
    "        common_vocab.remove(symbol)\n",
    "\n",
    "# remove stop words\n",
    "import spacy\n",
    "from tqdm import tqdm\n",
    "from spacy.lang.en.stop_words import STOP_WORDS\n",
    "for stop_word in STOP_WORDS:\n",
    "    if stop_word in common_vocab:\n",
    "        print(stop_word)\n",
    "        common_vocab.remove(stop_word)\n",
    "\n",
    "common_vocab = list(common_vocab)\n",
    "\n",
    "# remove punctuation and symbols\n",
    "nlp = spacy.load('en_core_web_sm')\n",
    "manual_punctuation = ['(', ')', '.', ',']\n",
    "new_common_vocab = []\n",
    "for i in tqdm(range(len(common_vocab))):\n",
    "    word = common_vocab[i]\n",
    "    doc = nlp(word)\n",
    "    token = doc[0]\n",
    "    if(len(doc) != 1):\n",
    "        print(word)\n",
    "        for idx, tok in enumerate(doc):\n",
    "            print(\"{} - {}\".format(idx, tok))\n",
    "    elif word in manual_punctuation:\n",
    "        pass\n",
    "    elif token.pos_ == \"PUNCT\":\n",
    "        print(\"PUNCT: {}\".format(word))\n",
    "    elif token.pos_ == \"SYM\":\n",
    "        print(\"SYM: {}\".format(word))\n",
    "    else:\n",
    "        new_common_vocab.append(word)\n",
    "    # print(\"{} - {}\".format(word, token.pos_))\n",
    "common_vocab = new_common_vocab\n",
    "\n",
    "# store common_vocab on file\n",
    "filename = \"/mnt/code/users/xuziyang/PromptBias/common_vocabs/common_vocab_cased_bert_gpt.txt\"\n",
    "with open(filename, 'w') as f:\n",
    "    for item in sorted(common_vocab):\n",
    "        f.write(\"{}\\n\".format(item))"
   ]
  }
 ],
 "metadata": {
  "interpreter": {
   "hash": "e2a961f21e3910a1829c13a9982b953d485249e8a0f32b2fb196974498b9d8dc"
  },
  "kernelspec": {
   "display_name": "Python 3.8.17 ('xzy_BiasBench')",
   "language": "python",
   "name": "python3"
  },
  "language_info": {
   "codemirror_mode": {
    "name": "ipython",
    "version": 3
   },
   "file_extension": ".py",
   "mimetype": "text/x-python",
   "name": "python",
   "nbconvert_exporter": "python",
   "pygments_lexer": "ipython3",
   "version": "3.8.17"
  },
  "orig_nbformat": 4
 },
 "nbformat": 4,
 "nbformat_minor": 2
}
